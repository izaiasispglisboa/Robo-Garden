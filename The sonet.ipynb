{
 "cells": [
  {
   "cell_type": "code",
   "execution_count": null,
   "metadata": {},
   "outputs": [],
   "source": [
    "\n",
    "import numpy as np\n",
    "from keras.preprocessing.text import text_to_word_sequence, Tokenizer\n",
    "from keras.preprocessing.sequence import pad_sequences\n",
    "from keras.utils import to_categorical\n",
    "from keras.models import Sequential\n",
    "from keras.layers import Embedding, LSTM, Dropout, Dense\n",
    "\n",
    "# Step 1: Read the text file\n",
    "with open('data.txt', 'r', encoding='utf-8') as file:\n",
    "    text = file.read()\n",
    "    lines = text.lower().split('\\n')\n",
    "\n",
    "# Step 2: Define words, vocabulary size, and sequences of words\n",
    "words = text_to_word_sequence(text)\n",
    "tokenizer = Tokenizer()\n",
    "tokenizer.fit_on_texts(words)\n",
    "vocabulary_size = len(tokenizer.word_index) + 1\n",
    "sequences = tokenizer.texts_to_sequences(lines)\n",
    "\n",
    "# Step 3: Find subsequences\n",
    "subsequences = []\n",
    "for sequence in sequences:\n",
    "    for i in range(1, len(sequence)):\n",
    "        subsequence = sequence[:i+1]\n",
    "        subsequences.append(subsequence)\n",
    "\n",
    "# Step 4: Apply padding\n",
    "sequence_length = max([len(sequence) for sequence in sequences])\n",
    "sequences = pad_sequences(subsequences, maxlen=sequence_length, padding='pre')\n",
    "\n",
    "# Step 5: Encode the target labels\n",
    "x, y = sequences[:, :-1], sequences[:, -1]\n",
    "y = to_categorical(y, num_classes=vocabulary_size)\n",
    "\n",
    "# Step 6: Define the RNN model\n",
    "model = Sequential([\n",
    "    Embedding(input_dim=vocabulary_size, output_dim=100, input_length=sequence_length - 1),\n",
    "    LSTM(100),\n",
    "    Dropout(0.1),\n",
    "    Dense(vocabulary_size, activation='softmax')\n",
    "])\n",
    "\n",
    "# Step 7: Compile the model\n",
    "model.compile(optimizer='adam', loss='categorical_crossentropy', metrics=['accuracy'])\n",
    "\n",
    "# Step 8: Train the model\n",
    "history = model.fit(x, y, epochs=500, verbose=1)\n",
    "\n",
    "# Return the model\n",
    "model.summary()\n"
   ]
  }
 ],
 "metadata": {
  "kernelspec": {
   "display_name": "Python 3",
   "language": "python",
   "name": "python3"
  },
  "language_info": {
   "name": "python",
   "version": "3.9.6"
  }
 },
 "nbformat": 4,
 "nbformat_minor": 2
}
