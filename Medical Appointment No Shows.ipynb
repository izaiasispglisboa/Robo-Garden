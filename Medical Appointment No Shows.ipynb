{
 "cells": [
  {
   "cell_type": "markdown",
   "metadata": {},
   "source": [
    "### No show"
   ]
  },
  {
   "cell_type": "code",
   "execution_count": 2,
   "metadata": {},
   "outputs": [
    {
     "name": "stderr",
     "output_type": "stream",
     "text": [
      "C:\\Users\\justino\\AppData\\Local\\Packages\\PythonSoftwareFoundation.Python.3.12_qbz5n2kfra8p0\\LocalCache\\local-packages\\Python312\\site-packages\\tqdm\\auto.py:21: TqdmWarning: IProgress not found. Please update jupyter and ipywidgets. See https://ipywidgets.readthedocs.io/en/stable/user_install.html\n",
      "  from .autonotebook import tqdm as notebook_tqdm\n"
     ]
    },
    {
     "name": "stdout",
     "output_type": "stream",
     "text": [
      "Downloading from https://www.kaggle.com/api/v1/datasets/download/joniarroba/noshowappointments?dataset_version_number=5...\n"
     ]
    },
    {
     "name": "stderr",
     "output_type": "stream",
     "text": [
      "100%|██████████| 2.40M/2.40M [00:00<00:00, 8.74MB/s]"
     ]
    },
    {
     "name": "stdout",
     "output_type": "stream",
     "text": [
      "Extracting files...\n"
     ]
    },
    {
     "name": "stderr",
     "output_type": "stream",
     "text": [
      "\n"
     ]
    },
    {
     "name": "stdout",
     "output_type": "stream",
     "text": [
      "Path to dataset files: C:\\Users\\justino\\.cache\\kagglehub\\datasets\\joniarroba\\noshowappointments\\versions\\5\n",
      "Missing values per column:\n",
      " PatientId         0\n",
      "AppointmentID     0\n",
      "Gender            0\n",
      "ScheduledDay      0\n",
      "AppointmentDay    0\n",
      "Age               0\n",
      "Neighbourhood     0\n",
      "Scholarship       0\n",
      "Hipertension      0\n",
      "Diabetes          0\n",
      "Alcoholism        0\n",
      "Handcap           0\n",
      "SMS_received      0\n",
      "No-show           0\n",
      "dtype: int64\n"
     ]
    },
    {
     "name": "stderr",
     "output_type": "stream",
     "text": [
      "C:\\Users\\justino\\AppData\\Local\\Temp\\ipykernel_21760\\387917863.py:28: SettingWithCopyWarning: \n",
      "A value is trying to be set on a copy of a slice from a DataFrame.\n",
      "Try using .loc[row_indexer,col_indexer] = value instead\n",
      "\n",
      "See the caveats in the documentation: https://pandas.pydata.org/pandas-docs/stable/user_guide/indexing.html#returning-a-view-versus-a-copy\n",
      "  features['Gender'] = encoder.fit_transform(features['Gender'])\n",
      "C:\\Users\\justino\\AppData\\Local\\Temp\\ipykernel_21760\\387917863.py:33: SettingWithCopyWarning: \n",
      "A value is trying to be set on a copy of a slice from a DataFrame.\n",
      "Try using .loc[row_indexer,col_indexer] = value instead\n",
      "\n",
      "See the caveats in the documentation: https://pandas.pydata.org/pandas-docs/stable/user_guide/indexing.html#returning-a-view-versus-a-copy\n",
      "  features[['Age', 'Scholarship', 'Hipertension', 'Diabetes', 'Alcoholism', 'Handcap', 'SMS_received']] = scaler.fit_transform(\n"
     ]
    },
    {
     "name": "stdout",
     "output_type": "stream",
     "text": [
      "Decision Tree Validation Accuracy: 0.7946258934226001\n",
      "Decision Tree Confusion Matrix:\n",
      " [[8746   59]\n",
      " [2211   37]]\n",
      "Random Forest Validation Accuracy: 0.7937211616755632\n",
      "Random Forest Confusion Matrix:\n",
      " [[8729   76]\n",
      " [2204   44]]\n",
      "Random Forest Test Accuracy: 0.7994209716818963\n",
      "Random Forest Test Confusion Matrix:\n",
      " [[8787   77]\n",
      " [2140   49]]\n"
     ]
    }
   ],
   "source": [
    "import pandas as pd\n",
    "import kagglehub\n",
    "from sklearn.model_selection import train_test_split\n",
    "from sklearn.preprocessing import LabelEncoder, StandardScaler\n",
    "from sklearn.tree import DecisionTreeClassifier\n",
    "from sklearn.ensemble import RandomForestClassifier\n",
    "from sklearn.metrics import accuracy_score, confusion_matrix\n",
    "\n",
    "# Step 1: Download the dataset using kagglehub\n",
    "path = kagglehub.dataset_download(\"joniarroba/noshowappointments\")\n",
    "print(\"Path to dataset files:\", path)\n",
    "\n",
    "# Load the dataset\n",
    "data = pd.read_csv(f\"{path}/KaggleV2-May-2016.csv\")  # Adjust filename based on the extracted dataset\n",
    "\n",
    "# Check for missing values and drop them\n",
    "print(\"Missing values per column:\\n\", data.isnull().sum())\n",
    "data.dropna(inplace=True)\n",
    "\n",
    "# Step 2: Feature extraction\n",
    "# Extract relevant features\n",
    "features = data[['Gender', 'Age', 'Scholarship', 'Hipertension', 'Diabetes', 'Alcoholism', 'Handcap', 'SMS_received']]\n",
    "target = data['No-show']\n",
    "\n",
    "# Step 3: Preprocessing\n",
    "# Encode categorical variables\n",
    "encoder = LabelEncoder()\n",
    "features['Gender'] = encoder.fit_transform(features['Gender'])\n",
    "target = encoder.fit_transform(target)\n",
    "\n",
    "# Scale numerical features\n",
    "scaler = StandardScaler()\n",
    "features[['Age', 'Scholarship', 'Hipertension', 'Diabetes', 'Alcoholism', 'Handcap', 'SMS_received']] = scaler.fit_transform(\n",
    "    features[['Age', 'Scholarship', 'Hipertension', 'Diabetes', 'Alcoholism', 'Handcap', 'SMS_received']]\n",
    ")\n",
    "\n",
    "# Step 4: Split the data\n",
    "X_train, X_temp, y_train, y_temp = train_test_split(features, target, test_size=0.2, random_state=42)\n",
    "X_val, X_test, y_val, y_test = train_test_split(X_temp, y_temp, test_size=0.5, random_state=42)\n",
    "\n",
    "# Step 5: Train a Decision Tree Classifier\n",
    "dt_model = DecisionTreeClassifier(criterion='gini', random_state=42)\n",
    "dt_model.fit(X_train, y_train)\n",
    "\n",
    "# Evaluate Decision Tree on validation set\n",
    "y_val_pred_dt = dt_model.predict(X_val)\n",
    "print(\"Decision Tree Validation Accuracy:\", accuracy_score(y_val, y_val_pred_dt))\n",
    "print(\"Decision Tree Confusion Matrix:\\n\", confusion_matrix(y_val, y_val_pred_dt))\n",
    "\n",
    "# Step 6: Train a Random Forest Classifier\n",
    "rf_model = RandomForestClassifier(n_estimators=100, random_state=42)\n",
    "rf_model.fit(X_train, y_train)\n",
    "\n",
    "# Evaluate Random Forest on validation set\n",
    "y_val_pred_rf = rf_model.predict(X_val)\n",
    "print(\"Random Forest Validation Accuracy:\", accuracy_score(y_val, y_val_pred_rf))\n",
    "print(\"Random Forest Confusion Matrix:\\n\", confusion_matrix(y_val, y_val_pred_rf))\n",
    "\n",
    "# Step 7: Test the Random Forest Classifier\n",
    "y_test_pred_rf = rf_model.predict(X_test)\n",
    "print(\"Random Forest Test Accuracy:\", accuracy_score(y_test, y_test_pred_rf))\n",
    "print(\"Random Forest Test Confusion Matrix:\\n\", confusion_matrix(y_test, y_test_pred_rf))\n"
   ]
  }
 ],
 "metadata": {
  "kernelspec": {
   "display_name": "Python 3",
   "language": "python",
   "name": "python3"
  },
  "language_info": {
   "codemirror_mode": {
    "name": "ipython",
    "version": 3
   },
   "file_extension": ".py",
   "mimetype": "text/x-python",
   "name": "python",
   "nbconvert_exporter": "python",
   "pygments_lexer": "ipython3",
   "version": "3.12.8"
  }
 },
 "nbformat": 4,
 "nbformat_minor": 2
}
