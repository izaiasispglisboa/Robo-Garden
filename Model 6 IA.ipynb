{
 "cells": [
  {
   "cell_type": "code",
   "execution_count": 2,
   "metadata": {},
   "outputs": [
    {
     "ename": "ModuleNotFoundError",
     "evalue": "No module named 'graphlab'",
     "output_type": "error",
     "traceback": [
      "\u001b[1;31m---------------------------------------------------------------------------\u001b[0m",
      "\u001b[1;31mModuleNotFoundError\u001b[0m                       Traceback (most recent call last)",
      "Cell \u001b[1;32mIn[2], line 1\u001b[0m\n\u001b[1;32m----> 1\u001b[0m \u001b[38;5;28;01mimport\u001b[39;00m \u001b[38;5;21;01mgraphlab\u001b[39;00m\n\u001b[0;32m      2\u001b[0m \u001b[38;5;28;01mimport\u001b[39;00m \u001b[38;5;21;01mpandas\u001b[39;00m \u001b[38;5;28;01mas\u001b[39;00m \u001b[38;5;21;01mpd\u001b[39;00m\n\u001b[0;32m      4\u001b[0m \u001b[38;5;66;03m# Load up the data with pandas\u001b[39;00m\n",
      "\u001b[1;31mModuleNotFoundError\u001b[0m: No module named 'graphlab'"
     ]
    }
   ],
   "source": [
    "import graphlab\n",
    "import pandas as pd\n",
    "\n",
    "# Load up the data with pandas\n",
    "r_cols = ['user_id', 'food_item', 'rating']\n",
    "train_data_df = pd.read_csv('train_data.csv', sep='\\t', names=r_cols)\n",
    "test_data_df = pd.read_csv('test_data.csv', sep='\\t', names=r_cols)\n",
    "\n",
    "# Convert the pandas dataframes to graph lab SFrames\n",
    "train_data = graphlab.SFrame(train_data_df)\n",
    "test_data = graphlab.SFrame(test_data_df)\n",
    "\n",
    "# Train the model\n",
    "collab_filter_model = graphlab.item_similarity_recommender.create(train_data, \n",
    "                                                                  user_id='user_id', \n",
    "                                                                  item_id='food_item', \n",
    "                                                                  target='rating', \n",
    "                                                                  similarity_type='cosine')\n",
    "                                                                  \n",
    "# Make recommendations\n",
    "which_user_ids = [1, 2, 3, 4]\n",
    "how_many_recommendations = 5\n",
    "item_recomendation = collab_filter_model.recommend(users=which_user_ids,\n",
    "                                                   k=how_many_recommendations)\n",
    "import graphlab\n",
    "import pandas as pd\n",
    "\n",
    "# Load up the data with pandas\n",
    "r_cols = ['user_id', 'food_item', 'rating']\n",
    "train_data_df = pd.read_csv('train_data.csv', sep='\\t', names=r_cols)\n",
    "test_data_df = pd.read_csv('test_data.csv', sep='\\t', names=r_cols)\n",
    "\n",
    "# Convert the pandas dataframes to graph lab SFrames\n",
    "train_data = graphlab.SFrame(train_data_df)\n",
    "test_data = graphlab.SFrame(test_data_df)\n",
    "\n",
    "# Train the model\n",
    "cotent_filter_model = graphlab.item_content_recommender.create(train_data, \n",
    "                                                              user_id='user_id', \n",
    "                                                              item_id='food_item', \n",
    "                                                              target='rating')\n",
    "                                                                  \n",
    "# Make recommendations\n",
    "which_user_ids = [1, 2, 3, 4]\n",
    "how_many_recommendations = 5\n",
    "item_recomendation = cotent_filter_model.recommend(users=which_user_ids,\n",
    "                                                   k=how_many_recommendations)"
   ]
  }
 ],
 "metadata": {
  "kernelspec": {
   "display_name": "Python 3",
   "language": "python",
   "name": "python3"
  },
  "language_info": {
   "codemirror_mode": {
    "name": "ipython",
    "version": 3
   },
   "file_extension": ".py",
   "mimetype": "text/x-python",
   "name": "python",
   "nbconvert_exporter": "python",
   "pygments_lexer": "ipython3",
   "version": "3.12.9"
  }
 },
 "nbformat": 4,
 "nbformat_minor": 2
}
